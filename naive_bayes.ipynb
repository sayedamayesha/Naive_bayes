{
 "cells": [
  {
   "cell_type": "markdown",
   "metadata": {},
   "source": [
    "Data attributes:\n",
    "\n",
    "1. Admit: 0-not admitted, 1- admitted\n",
    "2. gre: gre score\n",
    "3. Gpa: Gpa score\n",
    "4. Rank: School rank\n",
    "\n",
    "You need to create a machine learning model if a student is admitted or not given attributes. \n",
    "\n",
    "1. Run logistic model and naive bayes. Compare the two results. Which one is better?\n",
    "2. Create density plot of gre and gpa against admit."
   ]
  },
  {
   "cell_type": "code",
   "execution_count": null,
   "metadata": {},
   "outputs": [],
   "source": []
  }
 ],
 "metadata": {
  "kernelspec": {
   "display_name": "Python 3.9.12 ('base')",
   "language": "python",
   "name": "python3"
  },
  "language_info": {
   "name": "python",
   "version": "3.9.12"
  },
  "orig_nbformat": 4,
  "vscode": {
   "interpreter": {
    "hash": "2043299c89c8cd0b4d1a6f5cf4529bd58e6a4e0fe3181a25e0d328c821cdc5c5"
   }
  }
 },
 "nbformat": 4,
 "nbformat_minor": 2
}
